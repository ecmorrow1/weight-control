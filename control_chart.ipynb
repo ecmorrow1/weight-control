{
 "cells": [
  {
   "cell_type": "code",
   "execution_count": 1,
   "id": "ea50208d",
   "metadata": {},
   "outputs": [],
   "source": [
    "import matplotlib.pyplot as plt\n",
    "from dotenv import load_dotenv\n",
    "import pandas as pd\n",
    "import datetime\n",
    "\n",
    "# load_dotenv()"
   ]
  },
  {
   "cell_type": "code",
   "execution_count": 2,
   "id": "60ba8eb2",
   "metadata": {},
   "outputs": [],
   "source": [
    "data = [\n",
    "#     {\n",
    "#         \"date\": \"2023-01-03\",\n",
    "#         \"weight\": 249.0,\n",
    "#         \"note\": \"\"\n",
    "#     },\n",
    "    {\n",
    "        \"date\": \"2023-01-09\",\n",
    "        \"weight\": 242.8,\n",
    "        \"note\": \"\"\n",
    "    },\n",
    "    {\n",
    "        \"date\": \"2023-01-16\",\n",
    "        \"weight\": 243.8,\n",
    "        \"note\": \"\"\n",
    "    },\n",
    "    {\n",
    "        \"date\": \"2023-01-23\",\n",
    "        \"weight\": 245.6,\n",
    "        \"note\": \"\"\n",
    "    },\n",
    "    {\n",
    "        \"date\": \"2023-01-28\",\n",
    "        \"weight\": 243.0,\n",
    "        \"note\": \"note\"\n",
    "    },\n",
    "    {\n",
    "        \"date\": \"2023-01-30\",\n",
    "        \"weight\": 244.8,\n",
    "        \"note\": \"\"    \n",
    "    },\n",
    "    {\n",
    "        \"date\": \"2023-01-31\",\n",
    "        \"weight\": 243.4,\n",
    "        \"note\": \"\"    \n",
    "    },\n",
    "    {\n",
    "        \"date\": \"2023-02-01\",\n",
    "        \"weight\": 241.6,\n",
    "        \"note\": \"\"    \n",
    "    },\n",
    "    {\n",
    "        \"date\": \"2023-02-02\",\n",
    "        \"weight\": 242.8,\n",
    "        \"note\": \"\"    \n",
    "    },\n",
    "    {\n",
    "        \"date\": \"2023-02-03\",\n",
    "        \"weight\": 240.0,\n",
    "        \"note\": \"\"    \n",
    "    },\n",
    "    {\n",
    "        \"date\": \"2023-02-04\",\n",
    "        \"weight\": 241.2,\n",
    "        \"note\": \"Stuffed on pizza and had beer\"    \n",
    "    }\n",
    "]"
   ]
  },
  {
   "cell_type": "code",
   "execution_count": 3,
   "id": "9c0adad0",
   "metadata": {},
   "outputs": [],
   "source": [
    "# db_password = os.getenv(\"db_password\")\n",
    "# db_username = os.getenv(\"db_username\")\n",
    "# db_url = os.getenv(\"db_url\")\n",
    "# db_port = os.getenv(\"db_port\")\n",
    "# db_name = os.getenv(\"db_name\")\n",
    "# db_table = os.getenv(\"db_table\")"
   ]
  },
  {
   "cell_type": "code",
   "execution_count": 4,
   "id": "1b6b5331",
   "metadata": {},
   "outputs": [],
   "source": [
    "def movingRange(data):\n",
    "    return abs(df[\"weight\"].diff(periods=1)).dropna(how=all)"
   ]
  },
  {
   "cell_type": "code",
   "execution_count": 5,
   "id": "fa99d76f",
   "metadata": {},
   "outputs": [
    {
     "data": {
      "text/html": [
       "<div>\n",
       "<style scoped>\n",
       "    .dataframe tbody tr th:only-of-type {\n",
       "        vertical-align: middle;\n",
       "    }\n",
       "\n",
       "    .dataframe tbody tr th {\n",
       "        vertical-align: top;\n",
       "    }\n",
       "\n",
       "    .dataframe thead th {\n",
       "        text-align: right;\n",
       "    }\n",
       "</style>\n",
       "<table border=\"1\" class=\"dataframe\">\n",
       "  <thead>\n",
       "    <tr style=\"text-align: right;\">\n",
       "      <th></th>\n",
       "      <th>date</th>\n",
       "      <th>weight</th>\n",
       "      <th>note</th>\n",
       "    </tr>\n",
       "  </thead>\n",
       "  <tbody>\n",
       "    <tr>\n",
       "      <th>0</th>\n",
       "      <td>2023-01-09</td>\n",
       "      <td>242.8</td>\n",
       "      <td></td>\n",
       "    </tr>\n",
       "    <tr>\n",
       "      <th>1</th>\n",
       "      <td>2023-01-16</td>\n",
       "      <td>243.8</td>\n",
       "      <td></td>\n",
       "    </tr>\n",
       "    <tr>\n",
       "      <th>2</th>\n",
       "      <td>2023-01-23</td>\n",
       "      <td>245.6</td>\n",
       "      <td></td>\n",
       "    </tr>\n",
       "    <tr>\n",
       "      <th>3</th>\n",
       "      <td>2023-01-28</td>\n",
       "      <td>243.0</td>\n",
       "      <td>note</td>\n",
       "    </tr>\n",
       "    <tr>\n",
       "      <th>4</th>\n",
       "      <td>2023-01-30</td>\n",
       "      <td>244.8</td>\n",
       "      <td></td>\n",
       "    </tr>\n",
       "    <tr>\n",
       "      <th>5</th>\n",
       "      <td>2023-01-31</td>\n",
       "      <td>243.4</td>\n",
       "      <td></td>\n",
       "    </tr>\n",
       "    <tr>\n",
       "      <th>6</th>\n",
       "      <td>2023-02-01</td>\n",
       "      <td>241.6</td>\n",
       "      <td></td>\n",
       "    </tr>\n",
       "    <tr>\n",
       "      <th>7</th>\n",
       "      <td>2023-02-02</td>\n",
       "      <td>242.8</td>\n",
       "      <td></td>\n",
       "    </tr>\n",
       "    <tr>\n",
       "      <th>8</th>\n",
       "      <td>2023-02-03</td>\n",
       "      <td>240.0</td>\n",
       "      <td></td>\n",
       "    </tr>\n",
       "    <tr>\n",
       "      <th>9</th>\n",
       "      <td>2023-02-04</td>\n",
       "      <td>241.2</td>\n",
       "      <td>Stuffed on pizza and had beer</td>\n",
       "    </tr>\n",
       "  </tbody>\n",
       "</table>\n",
       "</div>"
      ],
      "text/plain": [
       "        date  weight                           note\n",
       "0 2023-01-09   242.8                               \n",
       "1 2023-01-16   243.8                               \n",
       "2 2023-01-23   245.6                               \n",
       "3 2023-01-28   243.0                           note\n",
       "4 2023-01-30   244.8                               \n",
       "5 2023-01-31   243.4                               \n",
       "6 2023-02-01   241.6                               \n",
       "7 2023-02-02   242.8                               \n",
       "8 2023-02-03   240.0                               \n",
       "9 2023-02-04   241.2  Stuffed on pizza and had beer"
      ]
     },
     "execution_count": 5,
     "metadata": {},
     "output_type": "execute_result"
    }
   ],
   "source": [
    "df=pd.DataFrame(data)\n",
    "df[\"date\"] = df[\"date\"].apply(pd.to_datetime)\n",
    "df"
   ]
  },
  {
   "cell_type": "code",
   "execution_count": 6,
   "id": "3824de85",
   "metadata": {},
   "outputs": [
    {
     "data": {
      "text/plain": [
       "date      datetime64[ns]\n",
       "weight           float64\n",
       "note              object\n",
       "dtype: object"
      ]
     },
     "execution_count": 6,
     "metadata": {},
     "output_type": "execute_result"
    }
   ],
   "source": [
    "\n",
    "# df.describe()\n",
    "df.dtypes"
   ]
  },
  {
   "cell_type": "code",
   "execution_count": 7,
   "id": "740e2fdf",
   "metadata": {},
   "outputs": [
    {
     "data": {
      "text/plain": [
       "1    1.0\n",
       "2    1.8\n",
       "3    2.6\n",
       "4    1.8\n",
       "5    1.4\n",
       "6    1.8\n",
       "7    1.2\n",
       "8    2.8\n",
       "9    1.2\n",
       "Name: weight, dtype: float64"
      ]
     },
     "execution_count": 7,
     "metadata": {},
     "output_type": "execute_result"
    }
   ],
   "source": [
    "MR = movingRange(data)\n",
    "MR"
   ]
  },
  {
   "cell_type": "code",
   "execution_count": 8,
   "id": "0c84dfce",
   "metadata": {},
   "outputs": [],
   "source": [
    "from datetime import datetime\n",
    "start_time = datetime.now()"
   ]
  },
  {
   "cell_type": "code",
   "execution_count": 9,
   "id": "691613e8",
   "metadata": {},
   "outputs": [],
   "source": [
    "averageMR = MR.mean()"
   ]
  },
  {
   "cell_type": "code",
   "execution_count": 10,
   "id": "5d868fc5",
   "metadata": {},
   "outputs": [],
   "source": [
    "df[\"URL\"] = [3.27*averageMR for row in df[\"date\"]]"
   ]
  },
  {
   "cell_type": "code",
   "execution_count": 22,
   "id": "f4b525a9",
   "metadata": {},
   "outputs": [
    {
     "data": {
      "text/html": [
       "<div>\n",
       "<style scoped>\n",
       "    .dataframe tbody tr th:only-of-type {\n",
       "        vertical-align: middle;\n",
       "    }\n",
       "\n",
       "    .dataframe tbody tr th {\n",
       "        vertical-align: top;\n",
       "    }\n",
       "\n",
       "    .dataframe thead th {\n",
       "        text-align: right;\n",
       "    }\n",
       "</style>\n",
       "<table border=\"1\" class=\"dataframe\">\n",
       "  <thead>\n",
       "    <tr style=\"text-align: right;\">\n",
       "      <th></th>\n",
       "      <th>averageMR</th>\n",
       "      <th>date</th>\n",
       "    </tr>\n",
       "  </thead>\n",
       "  <tbody>\n",
       "    <tr>\n",
       "      <th>0</th>\n",
       "      <td>1.733333</td>\n",
       "      <td>2023-01-09 00:00:00</td>\n",
       "    </tr>\n",
       "    <tr>\n",
       "      <th>1</th>\n",
       "      <td>1.733333</td>\n",
       "      <td>9   2023-02-04\n",
       "Name: date, dtype: datetime64[ns]</td>\n",
       "    </tr>\n",
       "  </tbody>\n",
       "</table>\n",
       "</div>"
      ],
      "text/plain": [
       "   averageMR                                              date\n",
       "0   1.733333                               2023-01-09 00:00:00\n",
       "1   1.733333  9   2023-02-04\n",
       "Name: date, dtype: datetime64[ns]"
      ]
     },
     "execution_count": 22,
     "metadata": {},
     "output_type": "execute_result"
    }
   ],
   "source": [
    "df_MR_plot = pd.DataFrame()\n",
    "df_MR_plot[\"averageMR\"] = [averageMR,averageMR]\n",
    "\n",
    "start_date = df[\"date\"][0]\n",
    "end_date = df.tail(1)[\"date\"]\n",
    "\n",
    "df_MR_plot[\"date\"] = [start_date,end_date]\n",
    "\n",
    "df_MR_plot"
   ]
  },
  {
   "cell_type": "code",
   "execution_count": 12,
   "id": "3f074026",
   "metadata": {},
   "outputs": [
    {
     "name": "stdout",
     "output_type": "stream",
     "text": [
      "Duration: 0:00:00.018987\n"
     ]
    }
   ],
   "source": [
    "\n",
    "end_time = datetime.now()\n",
    "print('Duration: {}'.format(end_time - start_time))"
   ]
  },
  {
   "cell_type": "code",
   "execution_count": 13,
   "id": "8f23e6da",
   "metadata": {},
   "outputs": [
    {
     "data": {
      "text/html": [
       "<div>\n",
       "<style scoped>\n",
       "    .dataframe tbody tr th:only-of-type {\n",
       "        vertical-align: middle;\n",
       "    }\n",
       "\n",
       "    .dataframe tbody tr th {\n",
       "        vertical-align: top;\n",
       "    }\n",
       "\n",
       "    .dataframe thead th {\n",
       "        text-align: right;\n",
       "    }\n",
       "</style>\n",
       "<table border=\"1\" class=\"dataframe\">\n",
       "  <thead>\n",
       "    <tr style=\"text-align: right;\">\n",
       "      <th></th>\n",
       "      <th>date</th>\n",
       "      <th>weight</th>\n",
       "      <th>note</th>\n",
       "      <th>URL</th>\n",
       "      <th>averageMR</th>\n",
       "    </tr>\n",
       "  </thead>\n",
       "  <tbody>\n",
       "    <tr>\n",
       "      <th>0</th>\n",
       "      <td>2023-01-09</td>\n",
       "      <td>242.8</td>\n",
       "      <td></td>\n",
       "      <td>5.668</td>\n",
       "      <td>1.733333</td>\n",
       "    </tr>\n",
       "    <tr>\n",
       "      <th>1</th>\n",
       "      <td>2023-01-16</td>\n",
       "      <td>243.8</td>\n",
       "      <td></td>\n",
       "      <td>5.668</td>\n",
       "      <td>1.733333</td>\n",
       "    </tr>\n",
       "    <tr>\n",
       "      <th>2</th>\n",
       "      <td>2023-01-23</td>\n",
       "      <td>245.6</td>\n",
       "      <td></td>\n",
       "      <td>5.668</td>\n",
       "      <td>1.733333</td>\n",
       "    </tr>\n",
       "    <tr>\n",
       "      <th>3</th>\n",
       "      <td>2023-01-28</td>\n",
       "      <td>243.0</td>\n",
       "      <td>note</td>\n",
       "      <td>5.668</td>\n",
       "      <td>1.733333</td>\n",
       "    </tr>\n",
       "    <tr>\n",
       "      <th>4</th>\n",
       "      <td>2023-01-30</td>\n",
       "      <td>244.8</td>\n",
       "      <td></td>\n",
       "      <td>5.668</td>\n",
       "      <td>1.733333</td>\n",
       "    </tr>\n",
       "    <tr>\n",
       "      <th>5</th>\n",
       "      <td>2023-01-31</td>\n",
       "      <td>243.4</td>\n",
       "      <td></td>\n",
       "      <td>5.668</td>\n",
       "      <td>1.733333</td>\n",
       "    </tr>\n",
       "    <tr>\n",
       "      <th>6</th>\n",
       "      <td>2023-02-01</td>\n",
       "      <td>241.6</td>\n",
       "      <td></td>\n",
       "      <td>5.668</td>\n",
       "      <td>1.733333</td>\n",
       "    </tr>\n",
       "    <tr>\n",
       "      <th>7</th>\n",
       "      <td>2023-02-02</td>\n",
       "      <td>242.8</td>\n",
       "      <td></td>\n",
       "      <td>5.668</td>\n",
       "      <td>1.733333</td>\n",
       "    </tr>\n",
       "    <tr>\n",
       "      <th>8</th>\n",
       "      <td>2023-02-03</td>\n",
       "      <td>240.0</td>\n",
       "      <td></td>\n",
       "      <td>5.668</td>\n",
       "      <td>1.733333</td>\n",
       "    </tr>\n",
       "    <tr>\n",
       "      <th>9</th>\n",
       "      <td>2023-02-04</td>\n",
       "      <td>241.2</td>\n",
       "      <td>Stuffed on pizza and had beer</td>\n",
       "      <td>5.668</td>\n",
       "      <td>1.733333</td>\n",
       "    </tr>\n",
       "  </tbody>\n",
       "</table>\n",
       "</div>"
      ],
      "text/plain": [
       "        date  weight                           note    URL  averageMR\n",
       "0 2023-01-09   242.8                                 5.668   1.733333\n",
       "1 2023-01-16   243.8                                 5.668   1.733333\n",
       "2 2023-01-23   245.6                                 5.668   1.733333\n",
       "3 2023-01-28   243.0                           note  5.668   1.733333\n",
       "4 2023-01-30   244.8                                 5.668   1.733333\n",
       "5 2023-01-31   243.4                                 5.668   1.733333\n",
       "6 2023-02-01   241.6                                 5.668   1.733333\n",
       "7 2023-02-02   242.8                                 5.668   1.733333\n",
       "8 2023-02-03   240.0                                 5.668   1.733333\n",
       "9 2023-02-04   241.2  Stuffed on pizza and had beer  5.668   1.733333"
      ]
     },
     "execution_count": 13,
     "metadata": {},
     "output_type": "execute_result"
    }
   ],
   "source": [
    "df"
   ]
  },
  {
   "cell_type": "code",
   "execution_count": null,
   "id": "ea428889",
   "metadata": {},
   "outputs": [],
   "source": []
  },
  {
   "cell_type": "code",
   "execution_count": 14,
   "id": "fde60bb5",
   "metadata": {
    "scrolled": false
   },
   "outputs": [],
   "source": [
    "def plot_MR():\n",
    "    plt.plot(df[\"date\"].tail(-1),MR,\"-xb\",df[\"date\"],df[\"URL\"],\"-r\",df[\"date\"],df[\"averageMR\"],\"--k\")\n",
    "    plt.xticks(rotation = 40)\n",
    "    plt.show()"
   ]
  },
  {
   "cell_type": "code",
   "execution_count": 15,
   "id": "081d21c1",
   "metadata": {},
   "outputs": [
    {
     "data": {
      "image/png": "[encoded data removed]",
      "text/plain": [
       "<Figure size 640x480 with 1 Axes>"
      ]
     },
     "metadata": {},
     "output_type": "display_data"
    }
   ],
   "source": [
    "plot_MR()"
   ]
  }
 ],
 "metadata": {
  "kernelspec": {
   "display_name": "PythonData",
   "language": "python",
   "name": "pythondata"
  },
  "language_info": {
   "codemirror_mode": {
    "name": "ipython",
    "version": 3
   },
   "file_extension": ".py",
   "mimetype": "text/x-python",
   "name": "python",
   "nbconvert_exporter": "python",
   "pygments_lexer": "ipython3",
   "version": "3.11.3"
  }
 },
 "nbformat": 4,
 "nbformat_minor": 5
}
